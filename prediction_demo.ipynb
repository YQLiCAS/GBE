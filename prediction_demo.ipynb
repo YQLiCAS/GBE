{
 "cells": [
  {
   "cell_type": "markdown",
   "metadata": {},
   "source": [
    "### <font color='#000000'>The notebook predicts the efficiency and proportion of the GBE editing outcome based on any given GBE gRNA sequence(s).  \n",
    "   </font>"
   ]
  },
  {
   "cell_type": "markdown",
   "metadata": {},
   "source": [
    "---"
   ]
  },
  {
   "cell_type": "markdown",
   "metadata": {},
   "source": [
    "|Packages|Version|                                          \n",
    "|-------------------------------|-----------------------------|\n",
    "|keras|2.7.0|\n",
    "|python|3.7.10|\n",
    "|pandas|1.1.5|\n",
    "|numpy|1.19.5|\n",
    "|scipy|1.4.1|\n",
    "|theano|1.1.2|"
   ]
  },
  {
   "cell_type": "markdown",
   "metadata": {},
   "source": [
    "# <font color='#000000'> Prediction Pipeline</font>                   "
   ]
  },
  {
   "cell_type": "markdown",
   "metadata": {},
   "source": [
    "### <font color='#0000FF'>① Import Scripts</font> "
   ]
  },
  {
   "cell_type": "code",
   "execution_count": null,
   "metadata": {
    "scrolled": true
   },
   "outputs": [],
   "source": [
    "%load_ext autoreload\n",
    "%autoreload 2\n",
    "from Prediction import *"
   ]
  },
  {
   "cell_type": "markdown",
   "metadata": {},
   "source": [
    "### <font color='#0000FF'>② Prediction </font>  ### "
   ]
  },
  {
   "cell_type": "markdown",
   "metadata": {},
   "source": [
    "* The function **predict_outcome** expects 3 arguments:<br>\n",
    "`filepath`:  filepath of input data<br>\n",
    "`editor`:  0 for APOBEC-nCas9-Ung and 1 for APOBEC-nCas9-UGI <br>\n",
    "`task`:  0 for efficiency prediction and 1 for proportion prediction"
   ]
  },
  {
   "cell_type": "code",
   "execution_count": null,
   "metadata": {},
   "outputs": [],
   "source": [
    "actual, predicted = predict_outcome('./data/Ung_proportion_sample.csv',0,1)"
   ]
  },
  {
   "cell_type": "code",
   "execution_count": null,
   "metadata": {},
   "outputs": [],
   "source": [
    "print(actual)\n",
    "print(predicted)"
   ]
  },
  {
   "cell_type": "code",
   "execution_count": null,
   "metadata": {},
   "outputs": [],
   "source": [
    "actual, predicted = predict_outcome('./data/UGI_proportion_sample.csv',1,1)"
   ]
  },
  {
   "cell_type": "code",
   "execution_count": null,
   "metadata": {},
   "outputs": [],
   "source": [
    "print(actual)\n",
    "print(predicted)"
   ]
  }
 ],
 "metadata": {
  "kernelspec": {
   "display_name": "Python 3",
   "language": "python",
   "name": "python3"
  },
  "language_info": {
   "codemirror_mode": {
    "name": "ipython",
    "version": 3
   },
   "file_extension": ".py",
   "mimetype": "text/x-python",
   "name": "python",
   "nbconvert_exporter": "python",
   "pygments_lexer": "ipython3",
   "version": "3.8.2"
  }
 },
 "nbformat": 4,
 "nbformat_minor": 4
}
